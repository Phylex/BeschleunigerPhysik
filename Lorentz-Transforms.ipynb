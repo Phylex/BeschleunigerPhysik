{
 "cells": [
  {
   "cell_type": "markdown",
   "metadata": {
    "raw_mimetype": "text/markdown"
   },
   "source": [
    "# Relativistische Kinematik\n",
    "\n",
    "## Die Lorentz-Transformation\n",
    "\n",
    "Will man zwischen verschiedenen Bezugssystemen hin und herwechseln, so muss man eine Lorentz-Transformation durchfuehren, da die Lorentz-Transformation die konstanz der Lichtgeschwindigkeit in allen Bezugssystemen beruecksichtigt. Damit stellt die Lorentz-Transformation eine Erweiterung der Gallilei-Transformation dar. Im Grenzfall kleiner Relativgeschwindigkeiten wird die Lorentz-Transformation zu der Gallilei-Transformation.\n",
    "\n",
    "Fuer einen Stationaeres Bezugssystem $S$ und ein relativ zu $S$ bewegtes Bezugssystem $S'$ gilt die Transformation\n",
    "\n",
    "$$\n",
    "x=x'\\\\\n",
    "y=y'\\\\\n",
    "z=\\gamma(z'+\\beta_zct')\\\\\n",
    "ct=\\gamma(\\beta_zz'+ ct')\\\\\n",
    "$$\n",
    "\n",
    "Im weiteren Verlauf soll zur Verarbeitung symbolischer Ausdruecke die python-bibliothek `sympy` verwendet werden.\n",
    "Ein ausfuehrliches tutorial zu sympy und eine Funktionsreferenz findet sich unter [hier](https://docs.sympy.org)"
   ]
  },
  {
   "cell_type": "code",
   "execution_count": 13,
   "metadata": {},
   "outputs": [],
   "source": [
    "from sympy import *\n",
    "from matplotlib import pyplot as plt\n",
    "import numpy as np"
   ]
  },
  {
   "cell_type": "markdown",
   "metadata": {},
   "source": [
    "Nun werden wir die notwendigen Symbole und Ausdruecke definieren. Die Koordinaten fuer das bewegte und das ruhende Bezugssystem sind wie oben definiert. Es kommen die Ausdruecke fuer $\\beta_z$ und $\\gamma$ als auch die fuer die Relativgeschwindigkeit zwischen $S$ und $S'$, $v_z$ und die Lichtgeschwindigkeit $c$ hinzu."
   ]
  },
  {
   "cell_type": "code",
   "execution_count": 14,
   "metadata": {},
   "outputs": [],
   "source": [
    "x, y, z, t = symbols('x, y, z, t')\n",
    "_x, _y, _z, _t = symbols(\"x', y', z', t'\")\n",
    "beta, gamma = symbols('beta_z, gamma')\n",
    "v_z, c = symbols('v_z, c')"
   ]
  },
  {
   "cell_type": "code",
   "execution_count": 15,
   "metadata": {},
   "outputs": [],
   "source": [
    "# ausdruecke fuer die relativistischen Faktoren\n",
    "# die ausdruecke fuer c und z. Diese Datenstruktur ist effektiv eine Formelsammlung\n",
    "formulars = {beta: v_z/c, gamma:1/(sqrt(1-beta**2)), t:(gamma/c)*(beta*_z+c*_t), z:gamma*(_z+beta*c*_t)}"
   ]
  },
  {
   "cell_type": "markdown",
   "metadata": {},
   "source": [
    "Lorentz Transformationen sind linear und koennen durch Tensoren, genauer gesagt durch gemischte Tensoren zweiter Stufe dargestellt werden. Gemischte Tensoren zweiter stufe wiederum lassen sich als Quadratische Matrizen schreiben.\n",
    "Eine Lorentz-Transformation fuer ein mit der Geschwindigkeit $v_z$ in z-Richtung relativ bewegtes Bezugssystem laesst sich schreiben als:"
   ]
  },
  {
   "cell_type": "code",
   "execution_count": 16,
   "metadata": {},
   "outputs": [
    {
     "data": {
      "text/latex": [
       "$\\displaystyle \\left[\\begin{matrix}1 & 0 & 0 & 0\\\\0 & 1 & 0 & 0\\\\0 & 0 & \\gamma & \\beta_{z} \\gamma\\\\0 & 0 & \\beta_{z} \\gamma & \\gamma\\end{matrix}\\right]$"
      ],
      "text/plain": [
       "Matrix([\n",
       "[1, 0,            0,            0],\n",
       "[0, 1,            0,            0],\n",
       "[0, 0,        gamma, beta_z*gamma],\n",
       "[0, 0, beta_z*gamma,        gamma]])"
      ]
     },
     "execution_count": 16,
     "metadata": {},
     "output_type": "execute_result"
    }
   ],
   "source": [
    "L_z = Matrix([[1, 0, 0, 0], [0, 1, 0, 0], [0, 0, gamma, beta*gamma], [0, 0, beta*gamma, gamma]])\n",
    "L_z"
   ]
  },
  {
   "cell_type": "code",
   "execution_count": 17,
   "metadata": {},
   "outputs": [
    {
     "data": {
      "text/latex": [
       "$\\displaystyle \\left[\\begin{matrix}x'\\\\y'\\\\\\beta_{z} c \\gamma t' + \\gamma z'\\\\\\beta_{z} \\gamma z' + c \\gamma t'\\end{matrix}\\right]$"
      ],
      "text/plain": [
       "Matrix([\n",
       "[                          x'],\n",
       "[                          y'],\n",
       "[beta_z*c*gamma*t' + gamma*z'],\n",
       "[beta_z*gamma*z' + c*gamma*t']])"
      ]
     },
     "execution_count": 17,
     "metadata": {},
     "output_type": "execute_result"
    }
   ],
   "source": [
    "_v = Matrix([_x, _y, _z, c*_t])\n",
    "L_z*_v"
   ]
  },
  {
   "cell_type": "markdown",
   "metadata": {},
   "source": [
    "werden die z und ct komponenten faktorisiert sieht man schnell die oben angegebene Formel"
   ]
  },
  {
   "cell_type": "code",
   "execution_count": 18,
   "metadata": {},
   "outputs": [
    {
     "data": {
      "text/latex": [
       "$\\displaystyle \\gamma \\left(\\beta_{z} c t' + z'\\right)$"
      ],
      "text/plain": [
       "gamma*(beta_z*c*t' + z')"
      ]
     },
     "execution_count": 18,
     "metadata": {},
     "output_type": "execute_result"
    }
   ],
   "source": [
    "(L_z*_v)[2].factor()"
   ]
  },
  {
   "cell_type": "code",
   "execution_count": 19,
   "metadata": {},
   "outputs": [
    {
     "data": {
      "text/latex": [
       "$\\displaystyle \\gamma \\left(\\beta_{z} z' + c t'\\right)$"
      ],
      "text/plain": [
       "gamma*(beta_z*z' + c*t')"
      ]
     },
     "execution_count": 19,
     "metadata": {},
     "output_type": "execute_result"
    }
   ],
   "source": [
    "(L_z*_v)[3].factor()"
   ]
  },
  {
   "cell_type": "code",
   "execution_count": 20,
   "metadata": {},
   "outputs": [
    {
     "data": {
      "text/plain": [
       "True"
      ]
     },
     "execution_count": 20,
     "metadata": {},
     "output_type": "execute_result"
    }
   ],
   "source": [
    "(L_z*_v)[2].factor() == formulars[z]"
   ]
  },
  {
   "cell_type": "code",
   "execution_count": 21,
   "metadata": {},
   "outputs": [
    {
     "data": {
      "text/plain": [
       "True"
      ]
     },
     "execution_count": 21,
     "metadata": {},
     "output_type": "execute_result"
    }
   ],
   "source": [
    "(L_z*_v)[3].factor() == c*formulars[t].factor()"
   ]
  },
  {
   "cell_type": "markdown",
   "metadata": {},
   "source": [
    "Dies wird auch von sympy bestaetigt. `formulars` gibt in diesem kontext unse \"Formelsammlung\" an. In dieser koennen wir nachschlagen was fuer ein Ausdruck fur ein bestimmtes symbol definiert wird. Die verwendete datenstruktur ist ein \"dictionary\" also ein digitales pendent zu einem Nachschlagewerk, nur das wir hier nicht von hand muehsam nachgucken muessen. Praktisch ist auch, dass damit sympy auch subsittutionen durchfuehren kann. Ist alles in der Formelsammlung von einigen wenigen (vielleicht sogar messbaren groessen) abgeleitet, kann man jeden ausdruck relativ einfach mit hilfe dieser Formelsammlung durch rekursives einsetzen der enthaltenen formeln auf eben jene variablen reduzieren, wobei der urspruenglich ausdruck wahrscheinlich an komplexitaet gewinnt.\n",
    "\n",
    "Das erweitern wird hier wohl relativ einfach machbar sein. Das reduzieren, also das geschickte umstellen der Terme, sodass die in der Formelsammlung enthaltenen Formeln zum vereinfachen (also zum abstrahieren) verwendet werden koennen wird wohl weiterhin etwas eigenen Hirnschmalz erfordern."
   ]
  },
  {
   "cell_type": "markdown",
   "metadata": {},
   "source": [
    "Das Problem an der Verwendung von \"Formelsammlungen\" ist, dass fuer jedes Symbol eigens eine Formel angegeben werden muss, das heisst, dass es nicht einfach moeglich ist die oben gemachte transformation fuer ein $z_1$ anzugeben, da $z_1$ fuer den computer mit $z$ nichts zu tun hat. Man muss fuer das symbol daher alle formeln \"nochmal\" implementieren. Es fehlt aktuell noch an einer moeglichkeit, zu sagen das symbole ein gemeinsames transformaitonsverhalten haben. (Zumindest kann ich das dazu passende feature noch nicht finden)."
   ]
  },
  {
   "cell_type": "markdown",
   "metadata": {},
   "source": [
    "## Laengenkontraktion\n",
    "Einer der zwei zentralen Effekte der spetiellen relativitaetstheorie ist die Laengenkontraktion. Diese soll hier nun gezeigt werden wobei die yz ebene betrachtet wird."
   ]
  },
  {
   "cell_type": "code",
   "execution_count": 57,
   "metadata": {},
   "outputs": [
    {
     "data": {
      "image/png": "[encoded data removed]",
      "text/plain": [
       "<Figure size 360x360 with 1 Axes>"
      ]
     },
     "metadata": {
      "needs_background": "light"
     },
     "output_type": "display_data"
    }
   ],
   "source": [
    "# ein Kreis um den Ursprung im Laborsystem\n",
    "# c is the parameter of the function that will draw the circle\n",
    "d = np.linspace(0, 2*np.pi, 10000)\n",
    "# remember the pyhton variables are allready bound to the symbols y and z\n",
    "y_coord = np.sin(d)\n",
    "z_coord = np.cos(d)\n",
    "fig = plt.figure(figsize=(5,5))\n",
    "plt.plot(z_coord, y_coord)\n",
    "plt.grid()"
   ]
  },
  {
   "cell_type": "markdown",
   "metadata": {},
   "source": [
    "Nun werden die Punkte auf dem Kreis in das bewegte bezugssystem transformiert, dazu muss allerdings zunaechst v in die Matrix eingesetzt werden (also $gamma$ und $beta$ muessen durch den entsprechenden Ausdruck mit $\\frac{v}{c}$ ersetzt werden und dann kann fuer die Koordinaten $x=t=0$ und fuer $y=$`y_coord` und $z=$`z_coord` eingesetzt werden. "
   ]
  },
  {
   "cell_type": "code",
   "execution_count": 58,
   "metadata": {},
   "outputs": [],
   "source": [
    "# damit die matrix effizient umgeformt werden kann muss erst eine kleine Funktion geschrieben werden\n",
    "def substitute_in_matrix(matrix, substitutions, i, j):\n",
    "    expr = matrix[i,j]\n",
    "    for sym, sub_expr in zip(substitutions.keys(), substitutions.values()):\n",
    "        expr = expr.subs(sym, sub_expr)\n",
    "    return expr\n",
    "# die funktion wird vom matrix konstruktor nur mit i und j als parameter aufgerufen und muss daher in einer lambda\n",
    "# expression eingepackt werden\n",
    "substitute_to_v = lambda i, j: substitute_in_matrix(L_z, {gamma:formulars[gamma], beta:formulars[beta]}, i, j)"
   ]
  },
  {
   "cell_type": "code",
   "execution_count": 59,
   "metadata": {},
   "outputs": [
    {
     "data": {
      "text/latex": [
       "$\\displaystyle \\left[\\begin{matrix}1 & 0 & 0 & 0\\\\0 & 1 & 0 & 0\\\\0 & 0 & - \\frac{1}{- \\frac{1}{\\sqrt{1 - \\frac{v_{z}^{2}}{c^{2}}}} + \\frac{v_{z}^{2}}{c^{2} \\sqrt{1 - \\frac{v_{z}^{2}}{c^{2}}}}} & \\frac{v_{z}}{c \\left(- \\frac{1}{\\sqrt{1 - \\frac{v_{z}^{2}}{c^{2}}}} + \\frac{v_{z}^{2}}{c^{2} \\sqrt{1 - \\frac{v_{z}^{2}}{c^{2}}}}\\right)}\\\\0 & 0 & \\frac{v_{z}}{c \\left(- \\frac{1}{\\sqrt{1 - \\frac{v_{z}^{2}}{c^{2}}}} + \\frac{v_{z}^{2}}{c^{2} \\sqrt{1 - \\frac{v_{z}^{2}}{c^{2}}}}\\right)} & - \\frac{1}{- \\frac{1}{\\sqrt{1 - \\frac{v_{z}^{2}}{c^{2}}}} + \\frac{v_{z}^{2}}{c^{2} \\sqrt{1 - \\frac{v_{z}^{2}}{c^{2}}}}}\\end{matrix}\\right]$"
      ],
      "text/plain": [
       "Matrix([\n",
       "[1, 0,                                                                        0,                                                                        0],\n",
       "[0, 1,                                                                        0,                                                                        0],\n",
       "[0, 0,      -1/(-1/sqrt(1 - v_z**2/c**2) + v_z**2/(c**2*sqrt(1 - v_z**2/c**2))), v_z/(c*(-1/sqrt(1 - v_z**2/c**2) + v_z**2/(c**2*sqrt(1 - v_z**2/c**2))))],\n",
       "[0, 0, v_z/(c*(-1/sqrt(1 - v_z**2/c**2) + v_z**2/(c**2*sqrt(1 - v_z**2/c**2)))),      -1/(-1/sqrt(1 - v_z**2/c**2) + v_z**2/(c**2*sqrt(1 - v_z**2/c**2)))]])"
      ]
     },
     "execution_count": 59,
     "metadata": {},
     "output_type": "execute_result"
    }
   ],
   "source": [
    "# zunaechst wird die Matrix nach v/c umgestellt\n",
    "L_z_reformulated = L_z.inv().applyfunc(lambda x: x.subs(gamma, formulars[gamma]).subs(beta, formulars[beta]))\n",
    "L_z_reformulated"
   ]
  },
  {
   "cell_type": "code",
   "execution_count": 64,
   "metadata": {},
   "outputs": [
    {
     "data": {
      "text/latex": [
       "$\\displaystyle \\left[\\begin{matrix}1 & 0 & 0 & 0\\\\0 & 1 & 0 & 0\\\\0 & 0 & 7.08881205008336 & -7.01792392958253\\\\0 & 0 & -7.01792392958253 & 7.08881205008336\\end{matrix}\\right]$"
      ],
      "text/plain": [
       "Matrix([\n",
       "[1, 0,                 0,                 0],\n",
       "[0, 1,                 0,                 0],\n",
       "[0, 0,  7.08881205008336, -7.01792392958253],\n",
       "[0, 0, -7.01792392958253,  7.08881205008336]])"
      ]
     },
     "execution_count": 64,
     "metadata": {},
     "output_type": "execute_result"
    }
   ],
   "source": [
    "# nun muss noch c und v_z ein wert zugewiesen werden und wir koennen die koordinaten transformieren, wir verwenden\n",
    "# dafuer wieder den substitutionsmechanismus den wir oben verwendet haben\n",
    "speed_of_light = 300000000\n",
    "fraction_of_c = 0.99\n",
    "eval_L_z = L_z_reformulated.applyfunc(lambda x: x.subs(v_z, fraction_of_c*speed_of_light))\n",
    "eval_L_z = eval_L_z.applyfunc(lambda x: x.subs(c, speed_of_light))\n",
    "eval_L_z"
   ]
  },
  {
   "cell_type": "code",
   "execution_count": 65,
   "metadata": {},
   "outputs": [],
   "source": [
    "# nun wenden wir die Transformation an und kriegen den Kreis im relativ bewegten bezugssystem S'\n",
    "y_coord_transformed = [(eval_L_z*Matrix([0, y_coord[i], z_coord[i], 0])).row(1) for i in range(len(y_coord))]\n",
    "z_coord_transformed = [(eval_L_z*Matrix([0, y_coord[i], z_coord[i], 0])).row(2) for i in range(len(y_coord))]"
   ]
  },
  {
   "cell_type": "code",
   "execution_count": 66,
   "metadata": {},
   "outputs": [
    {
     "data": {
      "image/png": "[encoded data removed]",
      "text/plain": [
       "<Figure size 360x360 with 1 Axes>"
      ]
     },
     "metadata": {
      "needs_background": "light"
     },
     "output_type": "display_data"
    }
   ],
   "source": [
    "fig = plt.figure(figsize=(5,5))\n",
    "plt.xlim(-2, 2)\n",
    "plt.ylim(-2, 2)\n",
    "plt.plot(z_coord_transformed, y_coord_transformed)\n",
    "plt.grid()"
   ]
  }
 ],
 "metadata": {
  "celltoolbar": "Raw Cell Format",
  "kernelspec": {
   "display_name": "Python 3",
   "language": "python",
   "name": "python3"
  },
  "language_info": {
   "codemirror_mode": {
    "name": "ipython",
    "version": 3
   },
   "file_extension": ".py",
   "mimetype": "text/x-python",
   "name": "python",
   "nbconvert_exporter": "python",
   "pygments_lexer": "ipython3",
   "version": "3.7.3"
  }
 },
 "nbformat": 4,
 "nbformat_minor": 4
}
